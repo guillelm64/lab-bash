{
 "cells": [
  {
   "cell_type": "code",
   "execution_count": null,
   "id": "41073190",
   "metadata": {},
   "outputs": [],
   "source": [
    "#1 \n",
    "echo \"Hello World\""
   ]
  },
  {
   "cell_type": "code",
   "execution_count": null,
   "id": "2b5df36a",
   "metadata": {},
   "outputs": [],
   "source": [
    "#1 \n",
    "mkdir new_dir\n"
   ]
  },
  {
   "cell_type": "code",
   "execution_count": null,
   "id": "af71d78c",
   "metadata": {},
   "outputs": [],
   "source": [
    "#3\n",
    "rm -r new_dir\n"
   ]
  },
  {
   "cell_type": "code",
   "execution_count": null,
   "id": "396cf227",
   "metadata": {},
   "outputs": [],
   "source": [
    "#4\n",
    "cp sed.txt ../ lorem-copy\n"
   ]
  },
  {
   "cell_type": "code",
   "execution_count": null,
   "id": "7373c66e",
   "metadata": {},
   "outputs": [],
   "source": [
    "#5\n",
    "\n"
   ]
  },
  {
   "cell_type": "code",
   "execution_count": null,
   "id": "45f86af7",
   "metadata": {},
   "outputs": [],
   "source": [
    "#6\n",
    "cat sed.txt"
   ]
  },
  {
   "cell_type": "code",
   "execution_count": null,
   "id": "21c380ff",
   "metadata": {},
   "outputs": [],
   "source": [
    "#7\n",
    "cat{at.txt, lorem.txt}"
   ]
  },
  {
   "cell_type": "code",
   "execution_count": null,
   "id": "2d542a6e",
   "metadata": {},
   "outputs": [],
   "source": [
    "#8\n",
    "head -n 3 sed.txt\n"
   ]
  },
  {
   "cell_type": "code",
   "execution_count": null,
   "id": "f98bbb51",
   "metadata": {},
   "outputs": [],
   "source": [
    "#9\n",
    "tail -n 3 sed.txt"
   ]
  },
  {
   "cell_type": "code",
   "execution_count": null,
   "id": "97d518b7",
   "metadata": {},
   "outputs": [],
   "source": [
    "#10\n"
   ]
  },
  {
   "cell_type": "code",
   "execution_count": null,
   "id": "d804ea61",
   "metadata": {},
   "outputs": [],
   "source": [
    "#11"
   ]
  },
  {
   "cell_type": "code",
   "execution_count": null,
   "id": "dc96fca2",
   "metadata": {},
   "outputs": [],
   "source": [
    "#12"
   ]
  },
  {
   "cell_type": "code",
   "execution_count": null,
   "id": "24cd233c",
   "metadata": {},
   "outputs": [],
   "source": [
    "#13\n",
    "git config --list"
   ]
  },
  {
   "cell_type": "code",
   "execution_count": null,
   "id": "0b8889e5",
   "metadata": {},
   "outputs": [],
   "source": [
    "#14\n",
    "pwd"
   ]
  },
  {
   "cell_type": "code",
   "execution_count": null,
   "id": "e3f1a79f",
   "metadata": {},
   "outputs": [],
   "source": [
    "#15\n",
    "ls *.txt"
   ]
  },
  {
   "cell_type": "code",
   "execution_count": null,
   "id": "da7e4900",
   "metadata": {},
   "outputs": [],
   "source": [
    "#16\n",
    "wc -l sed.txt"
   ]
  },
  {
   "cell_type": "code",
   "execution_count": null,
   "id": "38e9e267",
   "metadata": {},
   "outputs": [],
   "source": [
    "#17\n",
    "ls -dq *lorem* | wc -l"
   ]
  },
  {
   "cell_type": "markdown",
   "id": "a50548f5",
   "metadata": {},
   "source": []
  }
 ],
 "metadata": {
  "kernelspec": {
   "display_name": "Python 3 (ipykernel)",
   "language": "python",
   "name": "python3"
  },
  "language_info": {
   "codemirror_mode": {
    "name": "ipython",
    "version": 3
   },
   "file_extension": ".py",
   "mimetype": "text/x-python",
   "name": "python",
   "nbconvert_exporter": "python",
   "pygments_lexer": "ipython3",
   "version": "3.9.12"
  }
 },
 "nbformat": 4,
 "nbformat_minor": 5
}
